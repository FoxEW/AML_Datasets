{
  "nbformat": 4,
  "nbformat_minor": 0,
  "metadata": {
    "colab": {
      "provenance": [],
      "mount_file_id": "1GOA7c8XHWcqZBSAzHuEhZVCpHt8S7tZi",
      "authorship_tag": "ABX9TyOlUH0HeSN9Ogw1CzfP5OL1",
      "include_colab_link": true
    },
    "kernelspec": {
      "name": "python3",
      "display_name": "Python 3"
    },
    "language_info": {
      "name": "python"
    }
  },
  "cells": [
    {
      "cell_type": "markdown",
      "metadata": {
        "id": "view-in-github",
        "colab_type": "text"
      },
      "source": [
        "<a href=\"https://colab.research.google.com/github/FoxEW/AML_Datasets/blob/main/AML_Car_Insurance.ipynb\" target=\"_parent\"><img src=\"https://colab.research.google.com/assets/colab-badge.svg\" alt=\"Open In Colab\"/></a>"
      ]
    },
    {
      "cell_type": "markdown",
      "source": [
        "# **Insurance Claims Over Cars**\n",
        "- Author: Eric"
      ],
      "metadata": {
        "id": "5Oe5-1K5Gtk9"
      }
    },
    {
      "cell_type": "markdown",
      "source": [
        " ## **Data Source**\n",
        "https://www.kaggle.com/datasets/sagnik1511/car-insurance-data"
      ],
      "metadata": {
        "id": "A9XyUID5HKXU"
      }
    },
    {
      "cell_type": "markdown",
      "source": [
        "## **Description**\n",
        "The company has shared its annual car insurance data and I have to find out the real customer behaviors over the data.\n",
        "- The target is 'Outcome'\n",
        "- This is a binary classification problem (1 if a customer has claimed his/her loan else 0).\n",
        "- There are 19 features.\n",
        "- The dataset consists of 10,000 rows."
      ],
      "metadata": {
        "id": "3uRhUcCnHU1H"
      }
    }
  ]
}